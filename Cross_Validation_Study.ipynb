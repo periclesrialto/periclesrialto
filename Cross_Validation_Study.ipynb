{
  "nbformat": 4,
  "nbformat_minor": 0,
  "metadata": {
    "colab": {
      "name": "Cross_Validation_Study.ipynb",
      "provenance": [],
      "collapsed_sections": [],
      "authorship_tag": "ABX9TyMuacF9Lqdfyxz3rjfg9wOr",
      "include_colab_link": true
    },
    "kernelspec": {
      "name": "python3",
      "display_name": "Python 3"
    },
    "language_info": {
      "name": "python"
    }
  },
  "cells": [
    {
      "cell_type": "markdown",
      "metadata": {
        "id": "view-in-github",
        "colab_type": "text"
      },
      "source": [
        "<a href=\"https://colab.research.google.com/github/periclesrialto/periclesrialto/blob/main/Cross_Validation_Study.ipynb\" target=\"_parent\"><img src=\"https://colab.research.google.com/assets/colab-badge.svg\" alt=\"Open In Colab\"/></a>"
      ]
    },
    {
      "cell_type": "code",
      "execution_count": 211,
      "metadata": {
        "id": "CuOxXxAINSJ_"
      },
      "outputs": [],
      "source": [
        "import pandas as pd\n",
        "import numpy as np\n",
        "import matplotlib.pyplot as plt\n",
        "import statistics \n",
        "import seaborn as sns\n",
        "\n",
        "from glob import glob\n",
        "\n",
        "from sklearn.metrics import accuracy_score\n",
        "from sklearn.pipeline import Pipeline\n",
        "from sklearn.model_selection import train_test_split\n",
        "from sklearn.model_selection import StratifiedKFold\n",
        "from sklearn.preprocessing import StandardScaler\n",
        "from sklearn.svm import SVC\n",
        "from sklearn.tree import DecisionTreeClassifier\n",
        "from sklearn.ensemble import RandomForestClassifier\n",
        "from sklearn.linear_model import LogisticRegression\n",
        "from sklearn.model_selection import learning_curve\n",
        "from sklearn.decomposition import PCA\n",
        "from sklearn.model_selection import GridSearchCV\n",
        "from sklearn.model_selection import cross_val_score\n",
        "from sklearn.metrics import confusion_matrix"
      ]
    },
    {
      "cell_type": "markdown",
      "source": [
        "# **Análise exploratória**"
      ],
      "metadata": {
        "id": "-xLgQInhI7Vc"
      }
    },
    {
      "cell_type": "markdown",
      "source": [
        "**ADL**"
      ],
      "metadata": {
        "id": "bsSsTHjfoeF-"
      }
    },
    {
      "cell_type": "code",
      "source": [
        "#Importando apenas um ADL para análise prévia\n",
        "df = pd.read_csv('adl-01-acc.csv')\n",
        "df.columns = ['time [ms]', 'SVtotal [g]', 'Ax [g]', 'Az [g]', 'Ay [g]']\n",
        "#Cálculo da taxa de variação das acelerações\n",
        "df = df.assign(SVtotaldt= df['SVtotal [g]'].diff())\n",
        "df = df.assign(Axdt= df['Ax [g]'].diff())\n",
        "df = df.assign(Azdt= df['Az [g]'].diff())\n",
        "df = df.assign(Aydt= df['Ay [g]'].diff())\n",
        "df.fillna(0)"
      ],
      "metadata": {
        "id": "LTz1Ka2aVrz2",
        "colab": {
          "base_uri": "https://localhost:8080/",
          "height": 424
        },
        "outputId": "447a10f2-89e6-4e58-a14f-eb7a099e2e89"
      },
      "execution_count": 191,
      "outputs": [
        {
          "output_type": "execute_result",
          "data": {
            "text/plain": [
              "     time [ms]  SVtotal [g]    Ax [g]    Az [g]    Ay [g]  SVtotaldt  \\\n",
              "0           31     1.232825 -0.066079  1.221349 -0.154265   0.000000   \n",
              "1           46     1.271040 -0.081063  1.259424 -0.151072   0.038215   \n",
              "2           62     1.334946 -0.103908  1.315677 -0.200692   0.063906   \n",
              "3           93     1.343159 -0.072465  1.311010 -0.282984   0.008214   \n",
              "4          124     1.277563 -0.037338  1.229701 -0.344395  -0.065597   \n",
              "..         ...          ...       ...       ...       ...        ...   \n",
              "243       5116     1.159218  0.250067  0.616324 -0.949420  -0.059364   \n",
              "244       5132     1.147681  0.257436  0.596673 -0.945981  -0.011537   \n",
              "245       5148     1.083414  0.225994  0.581443 -0.885797  -0.064267   \n",
              "246       5179     1.078559  0.221572  0.623939 -0.851407  -0.004855   \n",
              "247       5210     1.014009  0.221572  0.569897 -0.808910  -0.064550   \n",
              "\n",
              "         Axdt      Azdt      Aydt  \n",
              "0    0.000000  0.000000  0.000000  \n",
              "1   -0.014984  0.038075  0.003193  \n",
              "2   -0.022845  0.056253 -0.049620  \n",
              "3    0.031443 -0.004667 -0.082291  \n",
              "4    0.035127 -0.081309 -0.061411  \n",
              "..        ...       ...       ...  \n",
              "243  0.026284 -0.121349 -0.005650  \n",
              "244  0.007369 -0.019652  0.003439  \n",
              "245 -0.031443 -0.015230  0.060183  \n",
              "246 -0.004422  0.042497  0.034390  \n",
              "247  0.000000 -0.054042  0.042497  \n",
              "\n",
              "[248 rows x 9 columns]"
            ],
            "text/html": [
              "\n",
              "  <div id=\"df-a6a6e8c4-bd8e-4202-becc-44734ccb29d7\">\n",
              "    <div class=\"colab-df-container\">\n",
              "      <div>\n",
              "<style scoped>\n",
              "    .dataframe tbody tr th:only-of-type {\n",
              "        vertical-align: middle;\n",
              "    }\n",
              "\n",
              "    .dataframe tbody tr th {\n",
              "        vertical-align: top;\n",
              "    }\n",
              "\n",
              "    .dataframe thead th {\n",
              "        text-align: right;\n",
              "    }\n",
              "</style>\n",
              "<table border=\"1\" class=\"dataframe\">\n",
              "  <thead>\n",
              "    <tr style=\"text-align: right;\">\n",
              "      <th></th>\n",
              "      <th>time [ms]</th>\n",
              "      <th>SVtotal [g]</th>\n",
              "      <th>Ax [g]</th>\n",
              "      <th>Az [g]</th>\n",
              "      <th>Ay [g]</th>\n",
              "      <th>SVtotaldt</th>\n",
              "      <th>Axdt</th>\n",
              "      <th>Azdt</th>\n",
              "      <th>Aydt</th>\n",
              "    </tr>\n",
              "  </thead>\n",
              "  <tbody>\n",
              "    <tr>\n",
              "      <th>0</th>\n",
              "      <td>31</td>\n",
              "      <td>1.232825</td>\n",
              "      <td>-0.066079</td>\n",
              "      <td>1.221349</td>\n",
              "      <td>-0.154265</td>\n",
              "      <td>0.000000</td>\n",
              "      <td>0.000000</td>\n",
              "      <td>0.000000</td>\n",
              "      <td>0.000000</td>\n",
              "    </tr>\n",
              "    <tr>\n",
              "      <th>1</th>\n",
              "      <td>46</td>\n",
              "      <td>1.271040</td>\n",
              "      <td>-0.081063</td>\n",
              "      <td>1.259424</td>\n",
              "      <td>-0.151072</td>\n",
              "      <td>0.038215</td>\n",
              "      <td>-0.014984</td>\n",
              "      <td>0.038075</td>\n",
              "      <td>0.003193</td>\n",
              "    </tr>\n",
              "    <tr>\n",
              "      <th>2</th>\n",
              "      <td>62</td>\n",
              "      <td>1.334946</td>\n",
              "      <td>-0.103908</td>\n",
              "      <td>1.315677</td>\n",
              "      <td>-0.200692</td>\n",
              "      <td>0.063906</td>\n",
              "      <td>-0.022845</td>\n",
              "      <td>0.056253</td>\n",
              "      <td>-0.049620</td>\n",
              "    </tr>\n",
              "    <tr>\n",
              "      <th>3</th>\n",
              "      <td>93</td>\n",
              "      <td>1.343159</td>\n",
              "      <td>-0.072465</td>\n",
              "      <td>1.311010</td>\n",
              "      <td>-0.282984</td>\n",
              "      <td>0.008214</td>\n",
              "      <td>0.031443</td>\n",
              "      <td>-0.004667</td>\n",
              "      <td>-0.082291</td>\n",
              "    </tr>\n",
              "    <tr>\n",
              "      <th>4</th>\n",
              "      <td>124</td>\n",
              "      <td>1.277563</td>\n",
              "      <td>-0.037338</td>\n",
              "      <td>1.229701</td>\n",
              "      <td>-0.344395</td>\n",
              "      <td>-0.065597</td>\n",
              "      <td>0.035127</td>\n",
              "      <td>-0.081309</td>\n",
              "      <td>-0.061411</td>\n",
              "    </tr>\n",
              "    <tr>\n",
              "      <th>...</th>\n",
              "      <td>...</td>\n",
              "      <td>...</td>\n",
              "      <td>...</td>\n",
              "      <td>...</td>\n",
              "      <td>...</td>\n",
              "      <td>...</td>\n",
              "      <td>...</td>\n",
              "      <td>...</td>\n",
              "      <td>...</td>\n",
              "    </tr>\n",
              "    <tr>\n",
              "      <th>243</th>\n",
              "      <td>5116</td>\n",
              "      <td>1.159218</td>\n",
              "      <td>0.250067</td>\n",
              "      <td>0.616324</td>\n",
              "      <td>-0.949420</td>\n",
              "      <td>-0.059364</td>\n",
              "      <td>0.026284</td>\n",
              "      <td>-0.121349</td>\n",
              "      <td>-0.005650</td>\n",
              "    </tr>\n",
              "    <tr>\n",
              "      <th>244</th>\n",
              "      <td>5132</td>\n",
              "      <td>1.147681</td>\n",
              "      <td>0.257436</td>\n",
              "      <td>0.596673</td>\n",
              "      <td>-0.945981</td>\n",
              "      <td>-0.011537</td>\n",
              "      <td>0.007369</td>\n",
              "      <td>-0.019652</td>\n",
              "      <td>0.003439</td>\n",
              "    </tr>\n",
              "    <tr>\n",
              "      <th>245</th>\n",
              "      <td>5148</td>\n",
              "      <td>1.083414</td>\n",
              "      <td>0.225994</td>\n",
              "      <td>0.581443</td>\n",
              "      <td>-0.885797</td>\n",
              "      <td>-0.064267</td>\n",
              "      <td>-0.031443</td>\n",
              "      <td>-0.015230</td>\n",
              "      <td>0.060183</td>\n",
              "    </tr>\n",
              "    <tr>\n",
              "      <th>246</th>\n",
              "      <td>5179</td>\n",
              "      <td>1.078559</td>\n",
              "      <td>0.221572</td>\n",
              "      <td>0.623939</td>\n",
              "      <td>-0.851407</td>\n",
              "      <td>-0.004855</td>\n",
              "      <td>-0.004422</td>\n",
              "      <td>0.042497</td>\n",
              "      <td>0.034390</td>\n",
              "    </tr>\n",
              "    <tr>\n",
              "      <th>247</th>\n",
              "      <td>5210</td>\n",
              "      <td>1.014009</td>\n",
              "      <td>0.221572</td>\n",
              "      <td>0.569897</td>\n",
              "      <td>-0.808910</td>\n",
              "      <td>-0.064550</td>\n",
              "      <td>0.000000</td>\n",
              "      <td>-0.054042</td>\n",
              "      <td>0.042497</td>\n",
              "    </tr>\n",
              "  </tbody>\n",
              "</table>\n",
              "<p>248 rows × 9 columns</p>\n",
              "</div>\n",
              "      <button class=\"colab-df-convert\" onclick=\"convertToInteractive('df-a6a6e8c4-bd8e-4202-becc-44734ccb29d7')\"\n",
              "              title=\"Convert this dataframe to an interactive table.\"\n",
              "              style=\"display:none;\">\n",
              "        \n",
              "  <svg xmlns=\"http://www.w3.org/2000/svg\" height=\"24px\"viewBox=\"0 0 24 24\"\n",
              "       width=\"24px\">\n",
              "    <path d=\"M0 0h24v24H0V0z\" fill=\"none\"/>\n",
              "    <path d=\"M18.56 5.44l.94 2.06.94-2.06 2.06-.94-2.06-.94-.94-2.06-.94 2.06-2.06.94zm-11 1L8.5 8.5l.94-2.06 2.06-.94-2.06-.94L8.5 2.5l-.94 2.06-2.06.94zm10 10l.94 2.06.94-2.06 2.06-.94-2.06-.94-.94-2.06-.94 2.06-2.06.94z\"/><path d=\"M17.41 7.96l-1.37-1.37c-.4-.4-.92-.59-1.43-.59-.52 0-1.04.2-1.43.59L10.3 9.45l-7.72 7.72c-.78.78-.78 2.05 0 2.83L4 21.41c.39.39.9.59 1.41.59.51 0 1.02-.2 1.41-.59l7.78-7.78 2.81-2.81c.8-.78.8-2.07 0-2.86zM5.41 20L4 18.59l7.72-7.72 1.47 1.35L5.41 20z\"/>\n",
              "  </svg>\n",
              "      </button>\n",
              "      \n",
              "  <style>\n",
              "    .colab-df-container {\n",
              "      display:flex;\n",
              "      flex-wrap:wrap;\n",
              "      gap: 12px;\n",
              "    }\n",
              "\n",
              "    .colab-df-convert {\n",
              "      background-color: #E8F0FE;\n",
              "      border: none;\n",
              "      border-radius: 50%;\n",
              "      cursor: pointer;\n",
              "      display: none;\n",
              "      fill: #1967D2;\n",
              "      height: 32px;\n",
              "      padding: 0 0 0 0;\n",
              "      width: 32px;\n",
              "    }\n",
              "\n",
              "    .colab-df-convert:hover {\n",
              "      background-color: #E2EBFA;\n",
              "      box-shadow: 0px 1px 2px rgba(60, 64, 67, 0.3), 0px 1px 3px 1px rgba(60, 64, 67, 0.15);\n",
              "      fill: #174EA6;\n",
              "    }\n",
              "\n",
              "    [theme=dark] .colab-df-convert {\n",
              "      background-color: #3B4455;\n",
              "      fill: #D2E3FC;\n",
              "    }\n",
              "\n",
              "    [theme=dark] .colab-df-convert:hover {\n",
              "      background-color: #434B5C;\n",
              "      box-shadow: 0px 1px 3px 1px rgba(0, 0, 0, 0.15);\n",
              "      filter: drop-shadow(0px 1px 2px rgba(0, 0, 0, 0.3));\n",
              "      fill: #FFFFFF;\n",
              "    }\n",
              "  </style>\n",
              "\n",
              "      <script>\n",
              "        const buttonEl =\n",
              "          document.querySelector('#df-a6a6e8c4-bd8e-4202-becc-44734ccb29d7 button.colab-df-convert');\n",
              "        buttonEl.style.display =\n",
              "          google.colab.kernel.accessAllowed ? 'block' : 'none';\n",
              "\n",
              "        async function convertToInteractive(key) {\n",
              "          const element = document.querySelector('#df-a6a6e8c4-bd8e-4202-becc-44734ccb29d7');\n",
              "          const dataTable =\n",
              "            await google.colab.kernel.invokeFunction('convertToInteractive',\n",
              "                                                     [key], {});\n",
              "          if (!dataTable) return;\n",
              "\n",
              "          const docLinkHtml = 'Like what you see? Visit the ' +\n",
              "            '<a target=\"_blank\" href=https://colab.research.google.com/notebooks/data_table.ipynb>data table notebook</a>'\n",
              "            + ' to learn more about interactive tables.';\n",
              "          element.innerHTML = '';\n",
              "          dataTable['output_type'] = 'display_data';\n",
              "          await google.colab.output.renderOutput(dataTable, element);\n",
              "          const docLink = document.createElement('div');\n",
              "          docLink.innerHTML = docLinkHtml;\n",
              "          element.appendChild(docLink);\n",
              "        }\n",
              "      </script>\n",
              "    </div>\n",
              "  </div>\n",
              "  "
            ]
          },
          "metadata": {},
          "execution_count": 191
        }
      ]
    },
    {
      "cell_type": "code",
      "source": [
        "plt.plot(df['time [ms]'], df['Ax [g]'], 'r', label=\"Ax [g]\")\n",
        "plt.plot(df['time [ms]'], df['Ay [g]'], 'g', label=\"Ay [g]\")\n",
        "plt.plot(df['time [ms]'], df['Az [g]'], 'b', label=\"Az [g]\")\n",
        "plt.plot(df['time [ms]'], df['SVtotal [g]'], 'c', label=\"SVtotal [g]\")\n",
        "plt.legend(loc=\"upper left\")\n",
        "plt.show()"
      ],
      "metadata": {
        "colab": {
          "base_uri": "https://localhost:8080/",
          "height": 265
        },
        "id": "1ixEENJUaUBC",
        "outputId": "d37b593d-bfe1-4cde-e0e9-c61b08863118"
      },
      "execution_count": 192,
      "outputs": [
        {
          "output_type": "display_data",
          "data": {
            "text/plain": [
              "<Figure size 432x288 with 1 Axes>"
            ],
            "image/png": "[encoded data removed]"
          },
          "metadata": {
            "needs_background": "light"
          }
        }
      ]
    },
    {
      "cell_type": "code",
      "source": [
        "plt.plot(df['time [ms]'], df['Axdt'], 'r', label=\"Ax [g/dt]\")\n",
        "plt.plot(df['time [ms]'], df['Aydt'], 'g', label=\"Ay [g/dt]\")\n",
        "plt.plot(df['time [ms]'], df['Azdt'], 'b', label=\"Az [g/dt]\")\n",
        "plt.plot(df['time [ms]'], df['SVtotaldt'], 'c', label=\"SVtotal [g/dt]\")\n",
        "plt.legend(loc=\"upper left\")\n",
        "plt.show()"
      ],
      "metadata": {
        "id": "M0U7LBFaeyG2",
        "colab": {
          "base_uri": "https://localhost:8080/",
          "height": 265
        },
        "outputId": "296e71d1-6ca3-44b5-dcd3-96378548ed31"
      },
      "execution_count": 193,
      "outputs": [
        {
          "output_type": "display_data",
          "data": {
            "text/plain": [
              "<Figure size 432x288 with 1 Axes>"
            ],
            "image/png": "[encoded data removed]"
          },
          "metadata": {
            "needs_background": "light"
          }
        }
      ]
    },
    {
      "cell_type": "markdown",
      "source": [
        "**Fall**"
      ],
      "metadata": {
        "id": "8LS2_0DmCJj8"
      }
    },
    {
      "cell_type": "code",
      "source": [
        "#Importando apenas um ADL para análise prévia\n",
        "df = pd.read_csv('fall-05-acc.csv')\n",
        "df.columns = ['time [ms]', 'SVtotal [g]', 'Ax [g]', 'Az [g]', 'Ay [g]']\n",
        "#Cálculo da taxa de variação das acelerações\n",
        "df = df.assign(SVtotaldt= df['SVtotal [g]'].diff())\n",
        "df = df.assign(Axdt= df['Ax [g]'].diff())\n",
        "df = df.assign(Azdt= df['Az [g]'].diff())\n",
        "df = df.assign(Aydt= df['Ay [g]'].diff())\n",
        "df.fillna(0)"
      ],
      "metadata": {
        "colab": {
          "base_uri": "https://localhost:8080/",
          "height": 424
        },
        "id": "LN9sw5elCPQd",
        "outputId": "7b93cd3f-11ab-46d3-b835-8cf96b5b0e48"
      },
      "execution_count": 194,
      "outputs": [
        {
          "output_type": "execute_result",
          "data": {
            "text/plain": [
              "     time [ms]  SVtotal [g]    Ax [g]    Az [g]    Ay [g]  SVtotaldt  \\\n",
              "0            9     1.090450 -0.096784  1.025570  0.357660   0.000000   \n",
              "1           12     1.303265 -0.120121  1.214717  0.456655   0.212815   \n",
              "2           43     1.135000 -0.016704  1.063645  0.395735  -0.168265   \n",
              "3           74     1.113183  0.004176  1.026307  0.431108  -0.021817   \n",
              "4           83     1.200296  0.092854  1.056767  0.561545   0.087113   \n",
              "..         ...          ...       ...       ...       ...        ...   \n",
              "184       4879     1.122198  0.618044 -0.085976  0.932716  -0.004531   \n",
              "185       4914     1.102278  0.655136 -0.094819  0.881376  -0.019920   \n",
              "186       4941     1.065364  0.671840 -0.200938  0.802032  -0.036914   \n",
              "187       5017     1.103679  0.790978 -0.234100  0.733252   0.038315   \n",
              "188       5048     1.122314  0.829790 -0.228696  0.720232   0.018635   \n",
              "\n",
              "         Axdt      Azdt      Aydt  \n",
              "0    0.000000  0.000000  0.000000  \n",
              "1   -0.023336  0.189147  0.098995  \n",
              "2    0.103417 -0.151072 -0.060920  \n",
              "3    0.020880 -0.037338  0.035373  \n",
              "4    0.088678  0.030460  0.130438  \n",
              "..        ...       ...       ...  \n",
              "184 -0.052322  0.399174  0.168021  \n",
              "185  0.037092 -0.008843 -0.051340  \n",
              "186  0.016704 -0.106119 -0.079343  \n",
              "187  0.119138 -0.033162 -0.068781  \n",
              "188  0.038812  0.005404 -0.013019  \n",
              "\n",
              "[189 rows x 9 columns]"
            ],
            "text/html": [
              "\n",
              "  <div id=\"df-e73830da-b71b-4d08-9e0b-1b9cb095363d\">\n",
              "    <div class=\"colab-df-container\">\n",
              "      <div>\n",
              "<style scoped>\n",
              "    .dataframe tbody tr th:only-of-type {\n",
              "        vertical-align: middle;\n",
              "    }\n",
              "\n",
              "    .dataframe tbody tr th {\n",
              "        vertical-align: top;\n",
              "    }\n",
              "\n",
              "    .dataframe thead th {\n",
              "        text-align: right;\n",
              "    }\n",
              "</style>\n",
              "<table border=\"1\" class=\"dataframe\">\n",
              "  <thead>\n",
              "    <tr style=\"text-align: right;\">\n",
              "      <th></th>\n",
              "      <th>time [ms]</th>\n",
              "      <th>SVtotal [g]</th>\n",
              "      <th>Ax [g]</th>\n",
              "      <th>Az [g]</th>\n",
              "      <th>Ay [g]</th>\n",
              "      <th>SVtotaldt</th>\n",
              "      <th>Axdt</th>\n",
              "      <th>Azdt</th>\n",
              "      <th>Aydt</th>\n",
              "    </tr>\n",
              "  </thead>\n",
              "  <tbody>\n",
              "    <tr>\n",
              "      <th>0</th>\n",
              "      <td>9</td>\n",
              "      <td>1.090450</td>\n",
              "      <td>-0.096784</td>\n",
              "      <td>1.025570</td>\n",
              "      <td>0.357660</td>\n",
              "      <td>0.000000</td>\n",
              "      <td>0.000000</td>\n",
              "      <td>0.000000</td>\n",
              "      <td>0.000000</td>\n",
              "    </tr>\n",
              "    <tr>\n",
              "      <th>1</th>\n",
              "      <td>12</td>\n",
              "      <td>1.303265</td>\n",
              "      <td>-0.120121</td>\n",
              "      <td>1.214717</td>\n",
              "      <td>0.456655</td>\n",
              "      <td>0.212815</td>\n",
              "      <td>-0.023336</td>\n",
              "      <td>0.189147</td>\n",
              "      <td>0.098995</td>\n",
              "    </tr>\n",
              "    <tr>\n",
              "      <th>2</th>\n",
              "      <td>43</td>\n",
              "      <td>1.135000</td>\n",
              "      <td>-0.016704</td>\n",
              "      <td>1.063645</td>\n",
              "      <td>0.395735</td>\n",
              "      <td>-0.168265</td>\n",
              "      <td>0.103417</td>\n",
              "      <td>-0.151072</td>\n",
              "      <td>-0.060920</td>\n",
              "    </tr>\n",
              "    <tr>\n",
              "      <th>3</th>\n",
              "      <td>74</td>\n",
              "      <td>1.113183</td>\n",
              "      <td>0.004176</td>\n",
              "      <td>1.026307</td>\n",
              "      <td>0.431108</td>\n",
              "      <td>-0.021817</td>\n",
              "      <td>0.020880</td>\n",
              "      <td>-0.037338</td>\n",
              "      <td>0.035373</td>\n",
              "    </tr>\n",
              "    <tr>\n",
              "      <th>4</th>\n",
              "      <td>83</td>\n",
              "      <td>1.200296</td>\n",
              "      <td>0.092854</td>\n",
              "      <td>1.056767</td>\n",
              "      <td>0.561545</td>\n",
              "      <td>0.087113</td>\n",
              "      <td>0.088678</td>\n",
              "      <td>0.030460</td>\n",
              "      <td>0.130438</td>\n",
              "    </tr>\n",
              "    <tr>\n",
              "      <th>...</th>\n",
              "      <td>...</td>\n",
              "      <td>...</td>\n",
              "      <td>...</td>\n",
              "      <td>...</td>\n",
              "      <td>...</td>\n",
              "      <td>...</td>\n",
              "      <td>...</td>\n",
              "      <td>...</td>\n",
              "      <td>...</td>\n",
              "    </tr>\n",
              "    <tr>\n",
              "      <th>184</th>\n",
              "      <td>4879</td>\n",
              "      <td>1.122198</td>\n",
              "      <td>0.618044</td>\n",
              "      <td>-0.085976</td>\n",
              "      <td>0.932716</td>\n",
              "      <td>-0.004531</td>\n",
              "      <td>-0.052322</td>\n",
              "      <td>0.399174</td>\n",
              "      <td>0.168021</td>\n",
              "    </tr>\n",
              "    <tr>\n",
              "      <th>185</th>\n",
              "      <td>4914</td>\n",
              "      <td>1.102278</td>\n",
              "      <td>0.655136</td>\n",
              "      <td>-0.094819</td>\n",
              "      <td>0.881376</td>\n",
              "      <td>-0.019920</td>\n",
              "      <td>0.037092</td>\n",
              "      <td>-0.008843</td>\n",
              "      <td>-0.051340</td>\n",
              "    </tr>\n",
              "    <tr>\n",
              "      <th>186</th>\n",
              "      <td>4941</td>\n",
              "      <td>1.065364</td>\n",
              "      <td>0.671840</td>\n",
              "      <td>-0.200938</td>\n",
              "      <td>0.802032</td>\n",
              "      <td>-0.036914</td>\n",
              "      <td>0.016704</td>\n",
              "      <td>-0.106119</td>\n",
              "      <td>-0.079343</td>\n",
              "    </tr>\n",
              "    <tr>\n",
              "      <th>187</th>\n",
              "      <td>5017</td>\n",
              "      <td>1.103679</td>\n",
              "      <td>0.790978</td>\n",
              "      <td>-0.234100</td>\n",
              "      <td>0.733252</td>\n",
              "      <td>0.038315</td>\n",
              "      <td>0.119138</td>\n",
              "      <td>-0.033162</td>\n",
              "      <td>-0.068781</td>\n",
              "    </tr>\n",
              "    <tr>\n",
              "      <th>188</th>\n",
              "      <td>5048</td>\n",
              "      <td>1.122314</td>\n",
              "      <td>0.829790</td>\n",
              "      <td>-0.228696</td>\n",
              "      <td>0.720232</td>\n",
              "      <td>0.018635</td>\n",
              "      <td>0.038812</td>\n",
              "      <td>0.005404</td>\n",
              "      <td>-0.013019</td>\n",
              "    </tr>\n",
              "  </tbody>\n",
              "</table>\n",
              "<p>189 rows × 9 columns</p>\n",
              "</div>\n",
              "      <button class=\"colab-df-convert\" onclick=\"convertToInteractive('df-e73830da-b71b-4d08-9e0b-1b9cb095363d')\"\n",
              "              title=\"Convert this dataframe to an interactive table.\"\n",
              "              style=\"display:none;\">\n",
              "        \n",
              "  <svg xmlns=\"http://www.w3.org/2000/svg\" height=\"24px\"viewBox=\"0 0 24 24\"\n",
              "       width=\"24px\">\n",
              "    <path d=\"M0 0h24v24H0V0z\" fill=\"none\"/>\n",
              "    <path d=\"M18.56 5.44l.94 2.06.94-2.06 2.06-.94-2.06-.94-.94-2.06-.94 2.06-2.06.94zm-11 1L8.5 8.5l.94-2.06 2.06-.94-2.06-.94L8.5 2.5l-.94 2.06-2.06.94zm10 10l.94 2.06.94-2.06 2.06-.94-2.06-.94-.94-2.06-.94 2.06-2.06.94z\"/><path d=\"M17.41 7.96l-1.37-1.37c-.4-.4-.92-.59-1.43-.59-.52 0-1.04.2-1.43.59L10.3 9.45l-7.72 7.72c-.78.78-.78 2.05 0 2.83L4 21.41c.39.39.9.59 1.41.59.51 0 1.02-.2 1.41-.59l7.78-7.78 2.81-2.81c.8-.78.8-2.07 0-2.86zM5.41 20L4 18.59l7.72-7.72 1.47 1.35L5.41 20z\"/>\n",
              "  </svg>\n",
              "      </button>\n",
              "      \n",
              "  <style>\n",
              "    .colab-df-container {\n",
              "      display:flex;\n",
              "      flex-wrap:wrap;\n",
              "      gap: 12px;\n",
              "    }\n",
              "\n",
              "    .colab-df-convert {\n",
              "      background-color: #E8F0FE;\n",
              "      border: none;\n",
              "      border-radius: 50%;\n",
              "      cursor: pointer;\n",
              "      display: none;\n",
              "      fill: #1967D2;\n",
              "      height: 32px;\n",
              "      padding: 0 0 0 0;\n",
              "      width: 32px;\n",
              "    }\n",
              "\n",
              "    .colab-df-convert:hover {\n",
              "      background-color: #E2EBFA;\n",
              "      box-shadow: 0px 1px 2px rgba(60, 64, 67, 0.3), 0px 1px 3px 1px rgba(60, 64, 67, 0.15);\n",
              "      fill: #174EA6;\n",
              "    }\n",
              "\n",
              "    [theme=dark] .colab-df-convert {\n",
              "      background-color: #3B4455;\n",
              "      fill: #D2E3FC;\n",
              "    }\n",
              "\n",
              "    [theme=dark] .colab-df-convert:hover {\n",
              "      background-color: #434B5C;\n",
              "      box-shadow: 0px 1px 3px 1px rgba(0, 0, 0, 0.15);\n",
              "      filter: drop-shadow(0px 1px 2px rgba(0, 0, 0, 0.3));\n",
              "      fill: #FFFFFF;\n",
              "    }\n",
              "  </style>\n",
              "\n",
              "      <script>\n",
              "        const buttonEl =\n",
              "          document.querySelector('#df-e73830da-b71b-4d08-9e0b-1b9cb095363d button.colab-df-convert');\n",
              "        buttonEl.style.display =\n",
              "          google.colab.kernel.accessAllowed ? 'block' : 'none';\n",
              "\n",
              "        async function convertToInteractive(key) {\n",
              "          const element = document.querySelector('#df-e73830da-b71b-4d08-9e0b-1b9cb095363d');\n",
              "          const dataTable =\n",
              "            await google.colab.kernel.invokeFunction('convertToInteractive',\n",
              "                                                     [key], {});\n",
              "          if (!dataTable) return;\n",
              "\n",
              "          const docLinkHtml = 'Like what you see? Visit the ' +\n",
              "            '<a target=\"_blank\" href=https://colab.research.google.com/notebooks/data_table.ipynb>data table notebook</a>'\n",
              "            + ' to learn more about interactive tables.';\n",
              "          element.innerHTML = '';\n",
              "          dataTable['output_type'] = 'display_data';\n",
              "          await google.colab.output.renderOutput(dataTable, element);\n",
              "          const docLink = document.createElement('div');\n",
              "          docLink.innerHTML = docLinkHtml;\n",
              "          element.appendChild(docLink);\n",
              "        }\n",
              "      </script>\n",
              "    </div>\n",
              "  </div>\n",
              "  "
            ]
          },
          "metadata": {},
          "execution_count": 194
        }
      ]
    },
    {
      "cell_type": "code",
      "source": [
        "plt.plot(df['time [ms]'], df['Ax [g]'], 'r', label=\"Ax [g]\")\n",
        "plt.plot(df['time [ms]'], df['Ay [g]'], 'g', label=\"Ay [g]\")\n",
        "plt.plot(df['time [ms]'], df['Az [g]'], 'b', label=\"Az [g]\")\n",
        "plt.plot(df['time [ms]'], df['SVtotal [g]'], 'c', label=\"SVtotal [g]\")\n",
        "plt.legend(loc=\"upper left\")\n",
        "plt.show()"
      ],
      "metadata": {
        "colab": {
          "base_uri": "https://localhost:8080/",
          "height": 267
        },
        "id": "owqOTEx2CrH0",
        "outputId": "833ae0e7-6be7-4da3-edd4-5f36f6bea499"
      },
      "execution_count": 195,
      "outputs": [
        {
          "output_type": "display_data",
          "data": {
            "text/plain": [
              "<Figure size 432x288 with 1 Axes>"
            ],
            "image/png": "[encoded data removed]"
          },
          "metadata": {
            "needs_background": "light"
          }
        }
      ]
    },
    {
      "cell_type": "code",
      "source": [
        "plt.plot(df['time [ms]'], df['Axdt'], 'r', label=\"Ax [g/dt]\")\n",
        "plt.plot(df['time [ms]'], df['Aydt'], 'g', label=\"Ay [g/dt]\")\n",
        "plt.plot(df['time [ms]'], df['Azdt'], 'b', label=\"Az [g/dt]\")\n",
        "plt.plot(df['time [ms]'], df['SVtotaldt'], 'c', label=\"SVtotal [g/dt]\")\n",
        "plt.legend(loc=\"upper left\")\n",
        "plt.show()"
      ],
      "metadata": {
        "colab": {
          "base_uri": "https://localhost:8080/",
          "height": 265
        },
        "id": "wHS2K2plCrKe",
        "outputId": "0620045d-efaf-43eb-bccb-86b48a26f437"
      },
      "execution_count": 196,
      "outputs": [
        {
          "output_type": "display_data",
          "data": {
            "text/plain": [
              "<Figure size 432x288 with 1 Axes>"
            ],
            "image/png": "[encoded data removed]"
          },
          "metadata": {
            "needs_background": "light"
          }
        }
      ]
    },
    {
      "cell_type": "markdown",
      "source": [
        "# **Construindo o dataframe com as features**"
      ],
      "metadata": {
        "id": "Y0SCX8ZHCMst"
      }
    },
    {
      "cell_type": "markdown",
      "source": [
        "**ADL**"
      ],
      "metadata": {
        "id": "9S-YnTrACgRH"
      }
    },
    {
      "cell_type": "code",
      "source": [
        "df_features_adl = pd.DataFrame(columns = ['Fall',\n",
        "                                      'SVtotal - max', 'SVtotal - min', \n",
        "                                      'SVtotal - mean', 'SVtotal - std',\n",
        "                                      'SVtotal - median', \n",
        "                                      'SVtotal dt - max', 'SVtotal dt - min', \n",
        "                                      'SVtotal dt - mean', 'SVtotal dt - std',\n",
        "                                      'SVtotal dt - median', \n",
        "                                      'Ax - max', 'Ax - min', \n",
        "                                      'Ax - mean', 'Ax - std',\n",
        "                                      'Ax - median', \n",
        "                                      'Ax dt - max', 'Ax dt - min', \n",
        "                                      'Ax dt - mean', 'Ax dt - std',\n",
        "                                      'Ax dt - median', \n",
        "                                      'Ay - max', 'Ay - min', \n",
        "                                      'Ay - mean', 'Ay - std',\n",
        "                                      'Ay - median', \n",
        "                                      'Ay dt - max', 'Ay dt - min', \n",
        "                                      'Ay dt - mean', 'Ay dt - std',\n",
        "                                      'Ay dt - median', \n",
        "                                      'Az - max', 'Az - min', \n",
        "                                      'Az - mean', 'Az - std',\n",
        "                                      'Az - median',\n",
        "                                      'Az dt - max', 'Az dt - min', \n",
        "                                      'Az dt - mean', 'Az dt - std',\n",
        "                                      'Az dt - median'])\n",
        "\n",
        "train_adl_files = sorted(glob('adl-*-acc.csv'))\n",
        "\n",
        "for file in range(len(train_adl_files)):\n",
        "  #importa uma tabela do array de tabelas\n",
        "  df_pivot = pd.read_csv(train_adl_files[file])\n",
        "  #Cria as colunas para as tabelas\n",
        "  df_pivot.columns = ['time [ms]', 'SVtotal [g]', 'Ax [g]', 'Az [g]', 'Ay [g]']\n",
        "  df_pivot = df_pivot.assign(SVtotaldt= df_pivot['SVtotal [g]'].diff())\n",
        "  df_pivot = df_pivot.assign(Axdt= df_pivot['Ax [g]'].diff())\n",
        "  df_pivot = df_pivot.assign(Azdt= df_pivot['Az [g]'].diff())\n",
        "  df_pivot = df_pivot.assign(Aydt= df_pivot['Ay [g]'].diff())\n",
        "  df_pivot.fillna(0)\n",
        "  #Extrai os dados para o dataframe de features\n",
        "  new_row = ([0, df_pivot['SVtotal [g]'].max(), df_pivot['SVtotal [g]'].min(),\n",
        "  df_pivot['SVtotal [g]'].mean(), df_pivot['SVtotal [g]'].std(),\n",
        "  df_pivot['SVtotal [g]'].median(), \n",
        "  df_pivot['SVtotaldt'].max(), df_pivot['SVtotaldt'].min(),\n",
        "  df_pivot['SVtotaldt'].mean(), df_pivot['SVtotaldt'].std(),\n",
        "  df_pivot['SVtotaldt'].median(), \n",
        "  df_pivot['Ax [g]'].max(), df_pivot['Ax [g]'].min(), \n",
        "  df_pivot['Ax [g]'].mean(), df_pivot['Ax [g]'].std(),\n",
        "  df_pivot['Ax [g]'].median(), \n",
        "  df_pivot['Axdt'].max(), df_pivot['Axdt'].min(), \n",
        "  df_pivot['Axdt'].mean(), df_pivot['Axdt'].std(),\n",
        "  df_pivot['Axdt'].median(), \n",
        "  df_pivot['Ay [g]'].max(), df_pivot['Ay [g]'].min(), \n",
        "  df_pivot['Ay [g]'].mean(), df_pivot['Ay [g]'].std(),\n",
        "  df_pivot['Ay [g]'].median(), \n",
        "  df_pivot['Aydt'].max(), df_pivot['Aydt'].min(), \n",
        "  df_pivot['Aydt'].mean(), df_pivot['Aydt'].std(),\n",
        "  df_pivot['Aydt'].median(), \n",
        "  df_pivot['Az [g]'].max(), df_pivot['Az [g]'].min(), \n",
        "  df_pivot['Az [g]'].mean(), df_pivot['Az [g]'].std(),\n",
        "  df_pivot['Az [g]'].median(), \n",
        "  df_pivot['Azdt'].max(), df_pivot['Azdt'].min(), \n",
        "  df_pivot['Azdt'].mean(), df_pivot['Azdt'].std(), \n",
        "  df_pivot['Azdt'].median()]);\n",
        "\n",
        "  df_features_adl.loc[file] = new_row\n",
        "  "
      ],
      "metadata": {
        "id": "4cDZwhLPovRH"
      },
      "execution_count": 197,
      "outputs": []
    },
    {
      "cell_type": "markdown",
      "source": [
        "**FALL**"
      ],
      "metadata": {
        "id": "OSrjKfyxohkE"
      }
    },
    {
      "cell_type": "code",
      "source": [
        "df_features_fall = pd.DataFrame(columns = ['Fall',\n",
        "                                      'SVtotal - max', 'SVtotal - min', \n",
        "                                      'SVtotal - mean', 'SVtotal - std',\n",
        "                                      'SVtotal - median', \n",
        "                                      'SVtotal dt - max', 'SVtotal dt - min', \n",
        "                                      'SVtotal dt - mean', 'SVtotal dt - std',\n",
        "                                      'SVtotal dt - median', \n",
        "                                      'Ax - max', 'Ax - min', \n",
        "                                      'Ax - mean', 'Ax - std',\n",
        "                                      'Ax - median', \n",
        "                                      'Ax dt - max', 'Ax dt - min', \n",
        "                                      'Ax dt - mean', 'Ax dt - std',\n",
        "                                      'Ax dt - median', \n",
        "                                      'Ay - max', 'Ay - min', \n",
        "                                      'Ay - mean', 'Ay - std',\n",
        "                                      'Ay - median', \n",
        "                                      'Ay dt - max', 'Ay dt - min', \n",
        "                                      'Ay dt - mean', 'Ay dt - std',\n",
        "                                      'Ay dt - median', \n",
        "                                      'Az - max', 'Az - min', \n",
        "                                      'Az - mean', 'Az - std',\n",
        "                                      'Az - median',\n",
        "                                      'Az dt - max', 'Az dt - min', \n",
        "                                      'Az dt - mean', 'Az dt - std',\n",
        "                                      'Az dt - median'])\n",
        "\n",
        "train_fall_files = sorted(glob('fall-*-acc.csv'))\n",
        "\n",
        "for file in range(len(train_fall_files)):\n",
        "  #importa uma tabela do array de tabelas\n",
        "  df_pivot = pd.read_csv(train_fall_files[file])\n",
        "  #Cria as colunas para as tabelas\n",
        "  df_pivot.columns = ['time [ms]', 'SVtotal [g]', 'Ax [g]', 'Az [g]', 'Ay [g]']\n",
        "  df_pivot = df_pivot.assign(SVtotaldt= df_pivot['SVtotal [g]'].diff())\n",
        "  df_pivot = df_pivot.assign(Axdt= df_pivot['Ax [g]'].diff())\n",
        "  df_pivot = df_pivot.assign(Azdt= df_pivot['Az [g]'].diff())\n",
        "  df_pivot = df_pivot.assign(Aydt= df_pivot['Ay [g]'].diff())\n",
        "  df_pivot.fillna(0)\n",
        "  #Extrai os dados para o dataframe de features\n",
        "  new_row = ([1, df_pivot['SVtotal [g]'].max(), df_pivot['SVtotal [g]'].min(),\n",
        "  df_pivot['SVtotal [g]'].mean(), df_pivot['SVtotal [g]'].std(),\n",
        "  df_pivot['SVtotal [g]'].median(), \n",
        "  df_pivot['SVtotaldt'].max(), df_pivot['SVtotaldt'].min(),\n",
        "  df_pivot['SVtotaldt'].mean(), df_pivot['SVtotaldt'].std(),\n",
        "  df_pivot['SVtotaldt'].median(), \n",
        "  df_pivot['Ax [g]'].max(), df_pivot['Ax [g]'].min(), \n",
        "  df_pivot['Ax [g]'].mean(), df_pivot['Ax [g]'].std(),\n",
        "  df_pivot['Ax [g]'].median(), \n",
        "  df_pivot['Axdt'].max(), df_pivot['Axdt'].min(), \n",
        "  df_pivot['Axdt'].mean(), df_pivot['Axdt'].std(),\n",
        "  df_pivot['Axdt'].median(), \n",
        "  df_pivot['Ay [g]'].max(), df_pivot['Ay [g]'].min(), \n",
        "  df_pivot['Ay [g]'].mean(), df_pivot['Ay [g]'].std(),\n",
        "  df_pivot['Ay [g]'].median(), \n",
        "  df_pivot['Aydt'].max(), df_pivot['Aydt'].min(), \n",
        "  df_pivot['Aydt'].mean(), df_pivot['Aydt'].std(),\n",
        "  df_pivot['Aydt'].median(), \n",
        "  df_pivot['Az [g]'].max(), df_pivot['Az [g]'].min(), \n",
        "  df_pivot['Az [g]'].mean(), df_pivot['Az [g]'].std(),\n",
        "  df_pivot['Az [g]'].median(), \n",
        "  df_pivot['Azdt'].max(), df_pivot['Azdt'].min(), \n",
        "  df_pivot['Azdt'].mean(), df_pivot['Azdt'].std(), \n",
        "  df_pivot['Azdt'].median()]);\n",
        "\n",
        "  df_features_fall.loc[file] = new_row"
      ],
      "metadata": {
        "id": "ku5lDfk_ClJF"
      },
      "execution_count": 198,
      "outputs": []
    },
    {
      "cell_type": "markdown",
      "source": [
        "**Dataframe de features completo para treinamento**"
      ],
      "metadata": {
        "id": "VtZdSxp3DU9m"
      }
    },
    {
      "cell_type": "code",
      "source": [
        "df_features = pd.concat([df_features_adl, df_features_fall])\n",
        "#O Shuffle realizado no dataframe de features pode mudar o resultado da validação cruzada\n",
        "df_features = df_features.sample(frac=1)"
      ],
      "metadata": {
        "id": "QJDbojfpDUGF"
      },
      "execution_count": 199,
      "outputs": []
    },
    {
      "cell_type": "markdown",
      "source": [
        "**Dataframe de teste**"
      ],
      "metadata": {
        "id": "ZPeXssSM1uOu"
      }
    },
    {
      "cell_type": "code",
      "source": [
        "df_teste = pd.DataFrame(columns = ['Fall',\n",
        "                                      'SVtotal - max', 'SVtotal - min', \n",
        "                                      'SVtotal - mean', 'SVtotal - std',\n",
        "                                      'SVtotal - median', \n",
        "                                      'SVtotal dt - max', 'SVtotal dt - min', \n",
        "                                      'SVtotal dt - mean', 'SVtotal dt - std',\n",
        "                                      'SVtotal dt - median', \n",
        "                                      'Ax - max', 'Ax - min', \n",
        "                                      'Ax - mean', 'Ax - std',\n",
        "                                      'Ax - median', \n",
        "                                      'Ax dt - max', 'Ax dt - min', \n",
        "                                      'Ax dt - mean', 'Ax dt - std',\n",
        "                                      'Ax dt - median', \n",
        "                                      'Ay - max', 'Ay - min', \n",
        "                                      'Ay - mean', 'Ay - std',\n",
        "                                      'Ay - median', \n",
        "                                      'Ay dt - max', 'Ay dt - min', \n",
        "                                      'Ay dt - mean', 'Ay dt - std',\n",
        "                                      'Ay dt - median', \n",
        "                                      'Az - max', 'Az - min', \n",
        "                                      'Az - mean', 'Az - std',\n",
        "                                      'Az - median',\n",
        "                                      'Az dt - max', 'Az dt - min', \n",
        "                                      'Az dt - mean', 'Az dt - std',\n",
        "                                      'Az dt - median'])\n",
        "\n",
        "teste_files = sorted(glob('test_*.csv'))\n",
        "\n",
        "for file in range(len(teste_files)):\n",
        "  #importa uma tabela do array de tabelas\n",
        "  df_pivot = pd.read_csv(teste_files[file])\n",
        "  #Cria as colunas para as tabelas\n",
        "  df_pivot.columns = ['time [ms]', 'SVtotal [g]', 'Ax [g]', 'Az [g]', 'Ay [g]']\n",
        "  df_pivot = df_pivot.assign(SVtotaldt= df_pivot['SVtotal [g]'].diff())\n",
        "  df_pivot = df_pivot.assign(Axdt= df_pivot['Ax [g]'].diff())\n",
        "  df_pivot = df_pivot.assign(Azdt= df_pivot['Az [g]'].diff())\n",
        "  df_pivot = df_pivot.assign(Aydt= df_pivot['Ay [g]'].diff())\n",
        "  df_pivot.fillna(0)\n",
        "  #Extrai os dados para o dataframe de features\n",
        "  if file>5: \n",
        "    fall = 1\n",
        "  else:\n",
        "    fall = 0\n",
        "  new_row = ([fall, df_pivot['SVtotal [g]'].max(), df_pivot['SVtotal [g]'].min(),\n",
        "  df_pivot['SVtotal [g]'].mean(), df_pivot['SVtotal [g]'].std(),\n",
        "  df_pivot['SVtotal [g]'].median(), \n",
        "  df_pivot['SVtotaldt'].max(), df_pivot['SVtotaldt'].min(),\n",
        "  df_pivot['SVtotaldt'].mean(), df_pivot['SVtotaldt'].std(),\n",
        "  df_pivot['SVtotaldt'].median(), \n",
        "  df_pivot['Ax [g]'].max(), df_pivot['Ax [g]'].min(), \n",
        "  df_pivot['Ax [g]'].mean(), df_pivot['Ax [g]'].std(),\n",
        "  df_pivot['Ax [g]'].median(), \n",
        "  df_pivot['Axdt'].max(), df_pivot['Axdt'].min(), \n",
        "  df_pivot['Axdt'].mean(), df_pivot['Axdt'].std(),\n",
        "  df_pivot['Axdt'].median(), \n",
        "  df_pivot['Ay [g]'].max(), df_pivot['Ay [g]'].min(), \n",
        "  df_pivot['Ay [g]'].mean(), df_pivot['Ay [g]'].std(),\n",
        "  df_pivot['Ay [g]'].median(), \n",
        "  df_pivot['Aydt'].max(), df_pivot['Aydt'].min(), \n",
        "  df_pivot['Aydt'].mean(), df_pivot['Aydt'].std(),\n",
        "  df_pivot['Aydt'].median(), \n",
        "  df_pivot['Az [g]'].max(), df_pivot['Az [g]'].min(), \n",
        "  df_pivot['Az [g]'].mean(), df_pivot['Az [g]'].std(),\n",
        "  df_pivot['Az [g]'].median(), \n",
        "  df_pivot['Azdt'].max(), df_pivot['Azdt'].min(), \n",
        "  df_pivot['Azdt'].mean(), df_pivot['Azdt'].std(), \n",
        "  df_pivot['Azdt'].median()]);\n",
        "\n",
        "  df_teste.loc[file] = new_row"
      ],
      "metadata": {
        "id": "5cfdzVDH1zpQ"
      },
      "execution_count": 200,
      "outputs": []
    },
    {
      "cell_type": "code",
      "source": [
        "#Importando apenas um ADL para análise prévia\n",
        "df = pd.read_csv('test_10.csv')\n",
        "df.columns = ['time [ms]', 'SVtotal [g]', 'Ax [g]', 'Az [g]', 'Ay [g]']\n",
        "#Cálculo da taxa de variação das acelerações\n",
        "df = df.assign(SVtotaldt= df['SVtotal [g]'].diff())\n",
        "df = df.assign(Axdt= df['Ax [g]'].diff())\n",
        "df = df.assign(Azdt= df['Az [g]'].diff())\n",
        "df = df.assign(Aydt= df['Ay [g]'].diff())\n",
        "df.fillna(0)"
      ],
      "metadata": {
        "colab": {
          "base_uri": "https://localhost:8080/",
          "height": 424
        },
        "id": "o6zTD_K01kMx",
        "outputId": "94b02641-02cf-4730-d00d-c6b6db186d1f"
      },
      "execution_count": 201,
      "outputs": [
        {
          "output_type": "execute_result",
          "data": {
            "text/plain": [
              "     time [ms]  SVtotal [g]    Ax [g]    Az [g]    Ay [g]  SVtotaldt  \\\n",
              "0         21.0     0.977008 -0.923348  0.550218 -0.114537   0.000000   \n",
              "1         38.0     1.438821 -0.608400  0.838917  0.126488   0.461813   \n",
              "2         54.0     1.984782 -0.269010  1.197440  0.379095   0.545961   \n",
              "3         76.0     0.917805 -0.959406  0.518595 -0.073812  -1.066977   \n",
              "4         87.0     0.921742 -0.955715  0.530638 -0.064965   0.003937   \n",
              "..         ...          ...       ...       ...       ...        ...   \n",
              "143     2035.0     1.314802  1.009205  0.353573  0.737046   0.027195   \n",
              "144     2050.0     1.619501  1.188332  0.584293  0.870003   0.304700   \n",
              "145     2068.0     0.374498  0.405307 -0.189892  0.314833  -1.245003   \n",
              "146     2087.0     0.319018  0.378240 -0.250750  0.290328  -0.055480   \n",
              "147     2106.0     1.427430  1.064924  0.500685  0.766723   1.108411   \n",
              "\n",
              "         Axdt      Azdt      Aydt  \n",
              "0    0.000000  0.000000  0.000000  \n",
              "1    0.314948  0.288699  0.241025  \n",
              "2    0.339390  0.358523  0.252607  \n",
              "3   -0.690396 -0.678845 -0.452907  \n",
              "4    0.003691  0.012043  0.008848  \n",
              "..        ...       ...       ...  \n",
              "143 -0.006113  0.015826  0.041461  \n",
              "144  0.179126  0.230720  0.132957  \n",
              "145 -0.783025 -0.774185 -0.555170  \n",
              "146 -0.027067 -0.060859 -0.024505  \n",
              "147  0.686684  0.751435  0.476394  \n",
              "\n",
              "[148 rows x 9 columns]"
            ],
            "text/html": [
              "\n",
              "  <div id=\"df-e741148f-20a5-4267-8ebf-4526edf888ec\">\n",
              "    <div class=\"colab-df-container\">\n",
              "      <div>\n",
              "<style scoped>\n",
              "    .dataframe tbody tr th:only-of-type {\n",
              "        vertical-align: middle;\n",
              "    }\n",
              "\n",
              "    .dataframe tbody tr th {\n",
              "        vertical-align: top;\n",
              "    }\n",
              "\n",
              "    .dataframe thead th {\n",
              "        text-align: right;\n",
              "    }\n",
              "</style>\n",
              "<table border=\"1\" class=\"dataframe\">\n",
              "  <thead>\n",
              "    <tr style=\"text-align: right;\">\n",
              "      <th></th>\n",
              "      <th>time [ms]</th>\n",
              "      <th>SVtotal [g]</th>\n",
              "      <th>Ax [g]</th>\n",
              "      <th>Az [g]</th>\n",
              "      <th>Ay [g]</th>\n",
              "      <th>SVtotaldt</th>\n",
              "      <th>Axdt</th>\n",
              "      <th>Azdt</th>\n",
              "      <th>Aydt</th>\n",
              "    </tr>\n",
              "  </thead>\n",
              "  <tbody>\n",
              "    <tr>\n",
              "      <th>0</th>\n",
              "      <td>21.0</td>\n",
              "      <td>0.977008</td>\n",
              "      <td>-0.923348</td>\n",
              "      <td>0.550218</td>\n",
              "      <td>-0.114537</td>\n",
              "      <td>0.000000</td>\n",
              "      <td>0.000000</td>\n",
              "      <td>0.000000</td>\n",
              "      <td>0.000000</td>\n",
              "    </tr>\n",
              "    <tr>\n",
              "      <th>1</th>\n",
              "      <td>38.0</td>\n",
              "      <td>1.438821</td>\n",
              "      <td>-0.608400</td>\n",
              "      <td>0.838917</td>\n",
              "      <td>0.126488</td>\n",
              "      <td>0.461813</td>\n",
              "      <td>0.314948</td>\n",
              "      <td>0.288699</td>\n",
              "      <td>0.241025</td>\n",
              "    </tr>\n",
              "    <tr>\n",
              "      <th>2</th>\n",
              "      <td>54.0</td>\n",
              "      <td>1.984782</td>\n",
              "      <td>-0.269010</td>\n",
              "      <td>1.197440</td>\n",
              "      <td>0.379095</td>\n",
              "      <td>0.545961</td>\n",
              "      <td>0.339390</td>\n",
              "      <td>0.358523</td>\n",
              "      <td>0.252607</td>\n",
              "    </tr>\n",
              "    <tr>\n",
              "      <th>3</th>\n",
              "      <td>76.0</td>\n",
              "      <td>0.917805</td>\n",
              "      <td>-0.959406</td>\n",
              "      <td>0.518595</td>\n",
              "      <td>-0.073812</td>\n",
              "      <td>-1.066977</td>\n",
              "      <td>-0.690396</td>\n",
              "      <td>-0.678845</td>\n",
              "      <td>-0.452907</td>\n",
              "    </tr>\n",
              "    <tr>\n",
              "      <th>4</th>\n",
              "      <td>87.0</td>\n",
              "      <td>0.921742</td>\n",
              "      <td>-0.955715</td>\n",
              "      <td>0.530638</td>\n",
              "      <td>-0.064965</td>\n",
              "      <td>0.003937</td>\n",
              "      <td>0.003691</td>\n",
              "      <td>0.012043</td>\n",
              "      <td>0.008848</td>\n",
              "    </tr>\n",
              "    <tr>\n",
              "      <th>...</th>\n",
              "      <td>...</td>\n",
              "      <td>...</td>\n",
              "      <td>...</td>\n",
              "      <td>...</td>\n",
              "      <td>...</td>\n",
              "      <td>...</td>\n",
              "      <td>...</td>\n",
              "      <td>...</td>\n",
              "      <td>...</td>\n",
              "    </tr>\n",
              "    <tr>\n",
              "      <th>143</th>\n",
              "      <td>2035.0</td>\n",
              "      <td>1.314802</td>\n",
              "      <td>1.009205</td>\n",
              "      <td>0.353573</td>\n",
              "      <td>0.737046</td>\n",
              "      <td>0.027195</td>\n",
              "      <td>-0.006113</td>\n",
              "      <td>0.015826</td>\n",
              "      <td>0.041461</td>\n",
              "    </tr>\n",
              "    <tr>\n",
              "      <th>144</th>\n",
              "      <td>2050.0</td>\n",
              "      <td>1.619501</td>\n",
              "      <td>1.188332</td>\n",
              "      <td>0.584293</td>\n",
              "      <td>0.870003</td>\n",
              "      <td>0.304700</td>\n",
              "      <td>0.179126</td>\n",
              "      <td>0.230720</td>\n",
              "      <td>0.132957</td>\n",
              "    </tr>\n",
              "    <tr>\n",
              "      <th>145</th>\n",
              "      <td>2068.0</td>\n",
              "      <td>0.374498</td>\n",
              "      <td>0.405307</td>\n",
              "      <td>-0.189892</td>\n",
              "      <td>0.314833</td>\n",
              "      <td>-1.245003</td>\n",
              "      <td>-0.783025</td>\n",
              "      <td>-0.774185</td>\n",
              "      <td>-0.555170</td>\n",
              "    </tr>\n",
              "    <tr>\n",
              "      <th>146</th>\n",
              "      <td>2087.0</td>\n",
              "      <td>0.319018</td>\n",
              "      <td>0.378240</td>\n",
              "      <td>-0.250750</td>\n",
              "      <td>0.290328</td>\n",
              "      <td>-0.055480</td>\n",
              "      <td>-0.027067</td>\n",
              "      <td>-0.060859</td>\n",
              "      <td>-0.024505</td>\n",
              "    </tr>\n",
              "    <tr>\n",
              "      <th>147</th>\n",
              "      <td>2106.0</td>\n",
              "      <td>1.427430</td>\n",
              "      <td>1.064924</td>\n",
              "      <td>0.500685</td>\n",
              "      <td>0.766723</td>\n",
              "      <td>1.108411</td>\n",
              "      <td>0.686684</td>\n",
              "      <td>0.751435</td>\n",
              "      <td>0.476394</td>\n",
              "    </tr>\n",
              "  </tbody>\n",
              "</table>\n",
              "<p>148 rows × 9 columns</p>\n",
              "</div>\n",
              "      <button class=\"colab-df-convert\" onclick=\"convertToInteractive('df-e741148f-20a5-4267-8ebf-4526edf888ec')\"\n",
              "              title=\"Convert this dataframe to an interactive table.\"\n",
              "              style=\"display:none;\">\n",
              "        \n",
              "  <svg xmlns=\"http://www.w3.org/2000/svg\" height=\"24px\"viewBox=\"0 0 24 24\"\n",
              "       width=\"24px\">\n",
              "    <path d=\"M0 0h24v24H0V0z\" fill=\"none\"/>\n",
              "    <path d=\"M18.56 5.44l.94 2.06.94-2.06 2.06-.94-2.06-.94-.94-2.06-.94 2.06-2.06.94zm-11 1L8.5 8.5l.94-2.06 2.06-.94-2.06-.94L8.5 2.5l-.94 2.06-2.06.94zm10 10l.94 2.06.94-2.06 2.06-.94-2.06-.94-.94-2.06-.94 2.06-2.06.94z\"/><path d=\"M17.41 7.96l-1.37-1.37c-.4-.4-.92-.59-1.43-.59-.52 0-1.04.2-1.43.59L10.3 9.45l-7.72 7.72c-.78.78-.78 2.05 0 2.83L4 21.41c.39.39.9.59 1.41.59.51 0 1.02-.2 1.41-.59l7.78-7.78 2.81-2.81c.8-.78.8-2.07 0-2.86zM5.41 20L4 18.59l7.72-7.72 1.47 1.35L5.41 20z\"/>\n",
              "  </svg>\n",
              "      </button>\n",
              "      \n",
              "  <style>\n",
              "    .colab-df-container {\n",
              "      display:flex;\n",
              "      flex-wrap:wrap;\n",
              "      gap: 12px;\n",
              "    }\n",
              "\n",
              "    .colab-df-convert {\n",
              "      background-color: #E8F0FE;\n",
              "      border: none;\n",
              "      border-radius: 50%;\n",
              "      cursor: pointer;\n",
              "      display: none;\n",
              "      fill: #1967D2;\n",
              "      height: 32px;\n",
              "      padding: 0 0 0 0;\n",
              "      width: 32px;\n",
              "    }\n",
              "\n",
              "    .colab-df-convert:hover {\n",
              "      background-color: #E2EBFA;\n",
              "      box-shadow: 0px 1px 2px rgba(60, 64, 67, 0.3), 0px 1px 3px 1px rgba(60, 64, 67, 0.15);\n",
              "      fill: #174EA6;\n",
              "    }\n",
              "\n",
              "    [theme=dark] .colab-df-convert {\n",
              "      background-color: #3B4455;\n",
              "      fill: #D2E3FC;\n",
              "    }\n",
              "\n",
              "    [theme=dark] .colab-df-convert:hover {\n",
              "      background-color: #434B5C;\n",
              "      box-shadow: 0px 1px 3px 1px rgba(0, 0, 0, 0.15);\n",
              "      filter: drop-shadow(0px 1px 2px rgba(0, 0, 0, 0.3));\n",
              "      fill: #FFFFFF;\n",
              "    }\n",
              "  </style>\n",
              "\n",
              "      <script>\n",
              "        const buttonEl =\n",
              "          document.querySelector('#df-e741148f-20a5-4267-8ebf-4526edf888ec button.colab-df-convert');\n",
              "        buttonEl.style.display =\n",
              "          google.colab.kernel.accessAllowed ? 'block' : 'none';\n",
              "\n",
              "        async function convertToInteractive(key) {\n",
              "          const element = document.querySelector('#df-e741148f-20a5-4267-8ebf-4526edf888ec');\n",
              "          const dataTable =\n",
              "            await google.colab.kernel.invokeFunction('convertToInteractive',\n",
              "                                                     [key], {});\n",
              "          if (!dataTable) return;\n",
              "\n",
              "          const docLinkHtml = 'Like what you see? Visit the ' +\n",
              "            '<a target=\"_blank\" href=https://colab.research.google.com/notebooks/data_table.ipynb>data table notebook</a>'\n",
              "            + ' to learn more about interactive tables.';\n",
              "          element.innerHTML = '';\n",
              "          dataTable['output_type'] = 'display_data';\n",
              "          await google.colab.output.renderOutput(dataTable, element);\n",
              "          const docLink = document.createElement('div');\n",
              "          docLink.innerHTML = docLinkHtml;\n",
              "          element.appendChild(docLink);\n",
              "        }\n",
              "      </script>\n",
              "    </div>\n",
              "  </div>\n",
              "  "
            ]
          },
          "metadata": {},
          "execution_count": 201
        }
      ]
    },
    {
      "cell_type": "code",
      "source": [
        "plt.plot(df['time [ms]'], df['Ax [g]'], 'r', label=\"Ax [g]\")\n",
        "plt.plot(df['time [ms]'], df['Ay [g]'], 'g', label=\"Ay [g]\")\n",
        "plt.plot(df['time [ms]'], df['Az [g]'], 'b', label=\"Az [g]\")\n",
        "plt.plot(df['time [ms]'], df['SVtotal [g]'], 'c', label=\"SVtotal [g]\")\n",
        "plt.legend(loc=\"upper left\")\n",
        "plt.show()"
      ],
      "metadata": {
        "colab": {
          "base_uri": "https://localhost:8080/",
          "height": 265
        },
        "id": "AXr4ErsE1kav",
        "outputId": "03a70488-2e6b-459c-ba3c-e37bfd706160"
      },
      "execution_count": 202,
      "outputs": [
        {
          "output_type": "display_data",
          "data": {
            "text/plain": [
              "<Figure size 432x288 with 1 Axes>"
            ],
            "image/png": "[encoded data removed]"
          },
          "metadata": {
            "needs_background": "light"
          }
        }
      ]
    },
    {
      "cell_type": "code",
      "source": [
        "plt.plot(df['time [ms]'], df['Axdt'], 'r', label=\"Ax [g/dt]\")\n",
        "plt.plot(df['time [ms]'], df['Aydt'], 'g', label=\"Ay [g/dt]\")\n",
        "plt.plot(df['time [ms]'], df['Azdt'], 'b', label=\"Az [g/dt]\")\n",
        "plt.plot(df['time [ms]'], df['SVtotaldt'], 'c', label=\"SVtotal [g/dt]\")\n",
        "plt.legend(loc=\"upper left\")\n",
        "plt.show()"
      ],
      "metadata": {
        "colab": {
          "base_uri": "https://localhost:8080/",
          "height": 265
        },
        "id": "OkLKnd-e1kg0",
        "outputId": "57a5374a-9e22-4e9f-ae02-70fa993320c4"
      },
      "execution_count": 203,
      "outputs": [
        {
          "output_type": "display_data",
          "data": {
            "text/plain": [
              "<Figure size 432x288 with 1 Axes>"
            ],
            "image/png": "[encoded data removed]"
          },
          "metadata": {
            "needs_background": "light"
          }
        }
      ]
    },
    {
      "cell_type": "markdown",
      "source": [
        "# **Tuning de hiperparâmetros SVM**"
      ],
      "metadata": {
        "id": "6xO1hDmr7O1T"
      }
    },
    {
      "cell_type": "code",
      "source": [
        "X = df_features.iloc[:, 1:].values\n",
        "y = df_features.iloc[:, 0].values\n",
        "\n",
        "X_train, X_test, y_train, y_test = train_test_split(X, y, test_size=0.7,\n",
        "                                                    random_state=1, stratify=y)"
      ],
      "metadata": {
        "id": "nUoF47Wm7Qh8"
      },
      "execution_count": 204,
      "outputs": []
    },
    {
      "cell_type": "code",
      "source": [
        "pipe_svc = Pipeline([('scaler', StandardScaler()),\n",
        "                               ('svc', SVC(random_state=1))])\n",
        "\n",
        "param_range = [0.0001, 0.001, 0.01, 0.1, 1.0, 10.0, 100.0, 1000.0]\n",
        "\n",
        "param_grid = [{'svc__C': param_range, \n",
        "               'svc__kernel': ['linear']},\n",
        "              {'svc__C': param_range, \n",
        "               'svc__gamma': param_range, \n",
        "               'svc__kernel': ['rbf']}]\n",
        "\n",
        "gs = GridSearchCV(estimator=pipe_svc, \n",
        "                  param_grid=param_grid, \n",
        "                  scoring='accuracy', \n",
        "                  cv=10,\n",
        "                  n_jobs=-1)\n",
        "gs = gs.fit(X_train, y_train)\n",
        "print(gs.best_score_)\n",
        "print(gs.best_params_)"
      ],
      "metadata": {
        "colab": {
          "base_uri": "https://localhost:8080/"
        },
        "id": "vRtdI_GX7d-v",
        "outputId": "2809ed8b-8a83-4b4c-9c1a-1bbadd7493d8"
      },
      "execution_count": 205,
      "outputs": [
        {
          "output_type": "stream",
          "name": "stderr",
          "text": [
            "/usr/local/lib/python3.7/dist-packages/sklearn/model_selection/_split.py:680: UserWarning: The least populated class in y has only 7 members, which is less than n_splits=10.\n",
            "  UserWarning,\n"
          ]
        },
        {
          "output_type": "stream",
          "name": "stdout",
          "text": [
            "1.0\n",
            "{'svc__C': 0.1, 'svc__kernel': 'linear'}\n"
          ]
        }
      ]
    },
    {
      "cell_type": "code",
      "source": [
        "from sklearn.metrics import precision_score, recall_score, f1_score\n",
        "from sklearn.metrics import make_scorer\n",
        "\n",
        "scorer = make_scorer(f1_score, pos_label=0)\n",
        "\n",
        "c_gamma_range = [0.01, 0.1, 1.0, 10.0]\n",
        "\n",
        "param_grid = [{'svc__C': c_gamma_range,\n",
        "               'svc__kernel': ['linear']},\n",
        "              {'svc__C': c_gamma_range,\n",
        "               'svc__gamma': c_gamma_range,\n",
        "               'svc__kernel': ['rbf']}]\n",
        "\n",
        "gs = GridSearchCV(estimator=pipe_svc,\n",
        "                  param_grid=param_grid,\n",
        "                  scoring=scorer,\n",
        "                  cv=10,\n",
        "                  n_jobs=-1)\n",
        "gs = gs.fit(X_train, y_train)\n",
        "print(gs.best_score_)\n",
        "print(gs.best_params_)"
      ],
      "metadata": {
        "colab": {
          "base_uri": "https://localhost:8080/"
        },
        "id": "WIbdqn4J-G7q",
        "outputId": "204b89ef-5bb1-4cb2-929e-e5aa6e772e26"
      },
      "execution_count": 206,
      "outputs": [
        {
          "output_type": "stream",
          "name": "stderr",
          "text": [
            "/usr/local/lib/python3.7/dist-packages/sklearn/model_selection/_split.py:680: UserWarning: The least populated class in y has only 7 members, which is less than n_splits=10.\n",
            "  UserWarning,\n"
          ]
        },
        {
          "output_type": "stream",
          "name": "stdout",
          "text": [
            "1.0\n",
            "{'svc__C': 0.1, 'svc__kernel': 'linear'}\n"
          ]
        }
      ]
    },
    {
      "cell_type": "markdown",
      "source": [
        "# **Análise de curva**"
      ],
      "metadata": {
        "id": "0t_5Eb1-2ZEB"
      }
    },
    {
      "cell_type": "code",
      "source": [
        "pipe_lr = Pipeline([('scaler', StandardScaler()),\n",
        "                          (\"classifier\",LogisticRegression(penalty='l2',\n",
        "                                                           random_state=1))])\n",
        "\n",
        "train_sizes, train_scores, test_scores =\\\n",
        "                learning_curve(estimator=pipe_lr,\n",
        "                               X=X_train,\n",
        "                               y=y_train,\n",
        "                               train_sizes=np.linspace(0.1, 1.0, 10),\n",
        "                               cv=10,\n",
        "                               n_jobs=1)\n",
        "\n",
        "train_mean = np.mean(train_scores, axis=1)\n",
        "train_std = np.std(train_scores, axis=1)\n",
        "test_mean = np.mean(test_scores, axis=1)\n",
        "test_std = np.std(test_scores, axis=1)\n",
        "\n",
        "plt.plot(train_sizes, train_mean,\n",
        "         color='blue', marker='o',\n",
        "         markersize=5, label='training accuracy')\n",
        "\n",
        "plt.fill_between(train_sizes,\n",
        "                 train_mean + train_std,\n",
        "                 train_mean - train_std,\n",
        "                 alpha=0.15, color='blue')\n",
        "\n",
        "plt.plot(train_sizes, test_mean,\n",
        "         color='green', linestyle='--',\n",
        "         marker='s', markersize=5,\n",
        "         label='validation accuracy')\n",
        "\n",
        "plt.fill_between(train_sizes,\n",
        "                 test_mean + test_std,\n",
        "                 test_mean - test_std,\n",
        "                 alpha=0.15, color='green')\n",
        "\n",
        "plt.grid()\n",
        "plt.xlabel('Number of training samples')\n",
        "plt.ylabel('Accuracy')\n",
        "plt.legend(loc='lower right')\n",
        "plt.ylim([0.8, 1.03])\n",
        "plt.tight_layout()\n",
        "plt.show()"
      ],
      "metadata": {
        "colab": {
          "base_uri": "https://localhost:8080/",
          "height": 332
        },
        "id": "hig437Ny2eaB",
        "outputId": "b5700568-0152-44a7-fbf9-e6140cb661af"
      },
      "execution_count": 207,
      "outputs": [
        {
          "output_type": "stream",
          "name": "stderr",
          "text": [
            "/usr/local/lib/python3.7/dist-packages/sklearn/model_selection/_split.py:680: UserWarning: The least populated class in y has only 7 members, which is less than n_splits=10.\n",
            "  UserWarning,\n"
          ]
        },
        {
          "output_type": "display_data",
          "data": {
            "text/plain": [
              "<Figure size 432x288 with 1 Axes>"
            ],
            "image/png": "[encoded data removed]"
          },
          "metadata": {
            "needs_background": "light"
          }
        }
      ]
    },
    {
      "cell_type": "markdown",
      "source": [
        "# **Treino de classificadores com validação cruzada**"
      ],
      "metadata": {
        "id": "33UgkA54HrRI"
      }
    },
    {
      "cell_type": "code",
      "source": [
        "tree = DecisionTreeClassifier(criterion='entropy', max_depth=2, random_state=1)\n",
        "svm = SVC(kernel='linear', random_state=1, gamma=1.0, C=0.1)\n",
        "rfc = RandomForestClassifier(max_depth=5, random_state=1)\n",
        "lr = LogisticRegression(penalty='l2', random_state=1)\n",
        "\n",
        "\n",
        "classifiers = [svm, tree, rfc, lr]"
      ],
      "metadata": {
        "id": "WS5fQdPXKWuv"
      },
      "execution_count": 208,
      "outputs": []
    },
    {
      "cell_type": "code",
      "source": [
        "#Grupo dividido em 4 devido a baixa quantidade de dados disponíveis\n",
        "\n",
        "scores = np.zeros((4,2))\n",
        "for classifier in range(len(classifiers)):\n",
        "  pipe_train = Pipeline([('scaler', StandardScaler()),\n",
        "                               ('pca', PCA(n_components=3)),\n",
        "                               (\"classifier\",classifiers[classifier])])\n",
        "  pipe_train.fit(X_train, y_train)\n",
        "\n",
        "  kfold = StratifiedKFold(n_splits=2).split(X_train, y_train)\n",
        "  for k, (train, test) in enumerate(kfold):\n",
        "      pipe_train.fit(X_train[train], y_train[train])\n",
        "      score = pipe_train.score(X_train[test], y_train[test])\n",
        "      scores[classifier][k] = score\n",
        "\n",
        "scores = pd.DataFrame(scores)\n",
        "scores.columns = ['Group1', 'Group2']\n",
        "scores.index  = ['SVM', 'TREE', 'RFC', 'LR']\n",
        "sns.heatmap(scores, annot=True).set_title('K-FOLD', fontdict={'fontsize':25})"
      ],
      "metadata": {
        "colab": {
          "base_uri": "https://localhost:8080/",
          "height": 307
        },
        "id": "8slicykAGIwA",
        "outputId": "d10d3306-23e8-45bf-e134-7bb2c73c2fd5"
      },
      "execution_count": 209,
      "outputs": [
        {
          "output_type": "execute_result",
          "data": {
            "text/plain": [
              "Text(0.5, 1.0, 'K-FOLD')"
            ]
          },
          "metadata": {},
          "execution_count": 209
        },
        {
          "output_type": "display_data",
          "data": {
            "text/plain": [
              "<Figure size 432x288 with 2 Axes>"
            ],
            "image/png": "[encoded data removed]"
          },
          "metadata": {
            "needs_background": "light"
          }
        }
      ]
    },
    {
      "cell_type": "markdown",
      "source": [
        "# **Classificação dos csv de teste**"
      ],
      "metadata": {
        "id": "HuT1qfI-WVFO"
      }
    },
    {
      "cell_type": "code",
      "source": [
        "scores = np.zeros((4,1))\n",
        "\n",
        "X_test = df_teste.iloc[:, 1:].values\n",
        "y_test = df_teste.iloc[:, 0].values\n",
        "\n",
        "for c in range(len(classifiers)):\n",
        "\n",
        "  test_score = pipe_train.score(X_test, y_test)\n",
        "  scores[c] = test_score\n",
        "  \n",
        "scores = pd.DataFrame(scores)\n",
        "scores.columns = ['Score']\n",
        "scores.index  = ['SVM', 'TREE',\n",
        "                        'RFC', 'LR']\n",
        "sns.heatmap(scores, annot=True)"
      ],
      "metadata": {
        "colab": {
          "base_uri": "https://localhost:8080/",
          "height": 282
        },
        "id": "fxcy8eYOgTRB",
        "outputId": "0dba2b3a-0c57-4bfb-e025-94158bbe9239"
      },
      "execution_count": 210,
      "outputs": [
        {
          "output_type": "execute_result",
          "data": {
            "text/plain": [
              "<matplotlib.axes._subplots.AxesSubplot at 0x7fbcec668350>"
            ]
          },
          "metadata": {},
          "execution_count": 210
        },
        {
          "output_type": "display_data",
          "data": {
            "text/plain": [
              "<Figure size 432x288 with 2 Axes>"
            ],
            "image/png": "[encoded data removed]"
          },
          "metadata": {
            "needs_background": "light"
          }
        }
      ]
    },
    {
      "cell_type": "markdown",
      "source": [
        "# **Confusion Matrix**"
      ],
      "metadata": {
        "id": "TfqdYTTC91w7"
      }
    },
    {
      "cell_type": "code",
      "source": [
        "y_pred = pipe_train.predict(X_test)\n",
        "confmat = confusion_matrix(y_true=y_test, y_pred=y_pred)\n",
        "\n",
        "fig, ax = plt.subplots(figsize=(2.5, 2.5))\n",
        "ax.matshow(confmat, cmap=plt.cm.Blues, alpha=0.3)\n",
        "for i in range(confmat.shape[0]):\n",
        "    for j in range(confmat.shape[1]):\n",
        "        ax.text(x=j, y=i, s=confmat[i, j], va='center', ha='center')\n",
        "\n",
        "plt.xlabel('Predicted label')\n",
        "plt.ylabel('True label')\n",
        "\n",
        "plt.tight_layout()\n",
        "plt.show()"
      ],
      "metadata": {
        "colab": {
          "base_uri": "https://localhost:8080/",
          "height": 189
        },
        "id": "8nQnO1dj9-W7",
        "outputId": "4e2892eb-2784-44fe-bbaa-368acdb14d1c"
      },
      "execution_count": 212,
      "outputs": [
        {
          "output_type": "display_data",
          "data": {
            "text/plain": [
              "<Figure size 180x180 with 1 Axes>"
            ],
            "image/png": "[encoded data removed]"
          },
          "metadata": {
            "needs_background": "light"
          }
        }
      ]
    },
    {
      "cell_type": "markdown",
      "source": [
        ""
      ],
      "metadata": {
        "id": "ZQm4UZ2l-XXt"
      }
    }
  ]
}